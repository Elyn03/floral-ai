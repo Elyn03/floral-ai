{
 "cells": [
  {
   "cell_type": "code",
   "execution_count": 7,
   "id": "690e1130",
   "metadata": {},
   "outputs": [],
   "source": [
    "import torch\n",
    "from torch import nn, optim\n",
    "from torch.utils.data import DataLoader\n",
    "from torchvision import datasets, transforms, models"
   ]
  },
  {
   "cell_type": "code",
   "execution_count": 8,
   "id": "8689da01",
   "metadata": {},
   "outputs": [
    {
     "name": "stdout",
     "output_type": "stream",
     "text": [
      "Using device: cpu\n",
      "Classes: ['rose', 'sunflower', 'tulip']\n"
     ]
    }
   ],
   "source": [
    "# Config\n",
    "device = torch.device(\"cuda\" if torch.cuda.is_available() else \"cpu\")\n",
    "print(f\"Using device: {device}\")\n",
    "\n",
    "# Classes\n",
    "train_data = datasets.ImageFolder(\"images\")\n",
    "classes = train_data.classes\n",
    "print(f\"Classes: {classes}\")"
   ]
  },
  {
   "cell_type": "code",
   "execution_count": 9,
   "id": "0360d067",
   "metadata": {},
   "outputs": [],
   "source": [
    "# Transformations (data augmentation simple + normalisation)\n",
    "transform = transforms.Compose([\n",
    "    transforms.Resize((224, 224)),          # Redimensionne les images à 224x224\n",
    "    transforms.RandomHorizontalFlip(),      # Flip horizontal aléatoire (augmentation)\n",
    "    transforms.ToTensor(),\n",
    "    transforms.Normalize([0.485, 0.456, 0.406],  # Moyenne ImageNet\n",
    "                         [0.229, 0.224, 0.225])  # Écart type ImageNet\n",
    "])"
   ]
  },
  {
   "cell_type": "code",
   "execution_count": 10,
   "id": "a03573db",
   "metadata": {},
   "outputs": [],
   "source": [
    "# Chargement dataset\n",
    "data_dir = \"./images\"\n",
    "dataset = datasets.ImageFolder(root=data_dir, transform=transform)\n",
    "dataloader = DataLoader(dataset, batch_size=32, shuffle=True)\n",
    "\n",
    "# Modèle : on prend un ResNet18 pré-entraîné sur ImageNet, on adapte la dernière couche\n",
    "model = models.resnet18(pretrained=True)\n",
    "num_ftrs = model.fc.in_features\n",
    "model.fc = nn.Linear(num_ftrs, len(classes))  # 10 classes\n",
    "model = model.to(device)\n",
    "\n",
    "# Fonction perte et optimiseur\n",
    "criterion = nn.CrossEntropyLoss()\n",
    "optimizer = optim.Adam(model.parameters(), lr=1e-4)"
   ]
  },
  {
   "cell_type": "code",
   "execution_count": 11,
   "id": "94dda425",
   "metadata": {},
   "outputs": [],
   "source": [
    "# Fonction d'entraînement\n",
    "def train_one_epoch(dataloader, model, criterion, optimizer):\n",
    "    model.train()\n",
    "    running_loss = 0.0\n",
    "    running_corrects = 0\n",
    "    \n",
    "    for inputs, labels in dataloader:\n",
    "        inputs = inputs.to(device)\n",
    "        labels = labels.to(device)\n",
    "\n",
    "        optimizer.zero_grad()\n",
    "\n",
    "        outputs = model(inputs)\n",
    "        loss = criterion(outputs, labels)\n",
    "        loss.backward()\n",
    "        optimizer.step()\n",
    "\n",
    "        running_loss += loss.item() * inputs.size(0)\n",
    "        preds = torch.argmax(outputs, 1)\n",
    "        running_corrects += torch.sum(preds == labels.data)\n",
    "\n",
    "    epoch_loss = running_loss / len(dataloader.dataset)\n",
    "    epoch_acc = running_corrects.double() / len(dataloader.dataset)\n",
    "\n",
    "    print(f\"Train loss: {epoch_loss:.4f}, accuracy: {epoch_acc:.4f}\")"
   ]
  },
  {
   "cell_type": "code",
   "execution_count": 12,
   "id": "a1eb6be2",
   "metadata": {},
   "outputs": [
    {
     "name": "stdout",
     "output_type": "stream",
     "text": [
      "Epoch 1/5\n",
      "Train loss: 0.0857, accuracy: 0.9726\n",
      "Epoch 2/5\n",
      "Train loss: 0.0150, accuracy: 0.9957\n",
      "Epoch 3/5\n",
      "Train loss: 0.0071, accuracy: 0.9987\n",
      "Epoch 4/5\n",
      "Train loss: 0.0062, accuracy: 0.9980\n",
      "Epoch 5/5\n",
      "Train loss: 0.0068, accuracy: 0.9983\n",
      "Modèle sauvegardé dans flower_classifier.pth\n"
     ]
    }
   ],
   "source": [
    "# Entraînement\n",
    "epochs = 5\n",
    "for epoch in range(epochs):\n",
    "    print(f\"Epoch {epoch+1}/{epochs}\")\n",
    "    train_one_epoch(dataloader, model, criterion, optimizer)\n",
    "\n",
    "# Sauvegarder le modèle\n",
    "torch.save(model.state_dict(), \"flower_classifier.pth\")\n",
    "print(\"Modèle sauvegardé dans flower_classifier.pth\")"
   ]
  },
  {
   "cell_type": "code",
   "execution_count": 14,
   "id": "2999ec47",
   "metadata": {},
   "outputs": [],
   "source": [
    "# Define dummy input with batch size 1 and correct image size 3x224x224\n",
    "tensor_torch = torch.randn(1, 3, 256, 256)\n",
    "\n",
    "# Export the model\n",
    "torch.onnx.export(\n",
    "    model,\n",
    "    tensor_torch,\n",
    "    \"flower_classifier.onnx\",\n",
    "    input_names = ['input'],\n",
    "    output_names = ['output']\n",
    ")"
   ]
  }
 ],
 "metadata": {
  "kernelspec": {
   "display_name": ".venv",
   "language": "python",
   "name": "python3"
  },
  "language_info": {
   "codemirror_mode": {
    "name": "ipython",
    "version": 3
   },
   "file_extension": ".py",
   "mimetype": "text/x-python",
   "name": "python",
   "nbconvert_exporter": "python",
   "pygments_lexer": "ipython3",
   "version": "3.11.5"
  }
 },
 "nbformat": 4,
 "nbformat_minor": 5
}
